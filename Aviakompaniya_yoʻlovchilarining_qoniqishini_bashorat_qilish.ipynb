{
  "nbformat": 4,
  "nbformat_minor": 0,
  "metadata": {
    "colab": {
      "provenance": [],
      "gpuType": "T4"
    },
    "kernelspec": {
      "name": "python3",
      "display_name": "Python 3"
    },
    "language_info": {
      "name": "python"
    },
    "accelerator": "GPU"
  },
  "cells": [
    {
      "cell_type": "code",
      "source": [
        "import pandas as pd\n",
        "import numpy as np\n",
        "\n",
        "from xgboost import XGBClassifier\n",
        "import optuna\n",
        "\n",
        "from sklearn.preprocessing import StandardScaler, LabelEncoder\n",
        "from sklearn.model_selection import train_test_split\n",
        "from sklearn.metrics import classification_report, accuracy_score"
      ],
      "metadata": {
        "id": "0pIKiyIskijw"
      },
      "execution_count": 116,
      "outputs": []
    },
    {
      "cell_type": "code",
      "source": [
        "# Load datasets\n",
        "train_data=pd.read_csv( '/content/train_dataset.csv')\n",
        "test_data =pd.read_csv('/content/test_dataset.csv')\n"
      ],
      "metadata": {
        "id": "LH5_R6nckklc"
      },
      "execution_count": 117,
      "outputs": []
    },
    {
      "cell_type": "code",
      "source": [
        "# Fill missing values explicitly\n",
        "train_data['Arrival Delay in Minutes'] = train_data['Arrival Delay in Minutes'].fillna(train_data['Arrival Delay in Minutes'].median())\n",
        "test_data['Arrival Delay in Minutes'] = test_data['Arrival Delay in Minutes'].fillna(test_data['Arrival Delay in Minutes'].median())"
      ],
      "metadata": {
        "id": "xCUc1AvEuLQd"
      },
      "execution_count": 118,
      "outputs": []
    },
    {
      "cell_type": "code",
      "source": [
        "# Encode categorical variables\n",
        "categorical_features = ['Gender', 'Customer Type', 'Type of Travel', 'Class']\n",
        "encoder = LabelEncoder()\n",
        "for feature in categorical_features:\n",
        "    train_data[feature] = encoder.fit_transform(train_data[feature])\n",
        "    test_data[feature] = encoder.transform(test_data[feature])"
      ],
      "metadata": {
        "id": "kt2r9ewMmmU2"
      },
      "execution_count": 119,
      "outputs": []
    },
    {
      "cell_type": "code",
      "source": [
        "# Define features and target\n",
        "X = train_data.drop(['id', 'satisfaction'], axis=1)\n",
        "y = train_data['satisfaction']\n",
        "X_test = test_data.drop(['id'], axis=1)"
      ],
      "metadata": {
        "id": "K_kF5h94mpqZ"
      },
      "execution_count": 120,
      "outputs": []
    },
    {
      "cell_type": "code",
      "source": [
        "# Split the training data for validation\n",
        "X_train, X_val, y_train, y_val = train_test_split(X, y, test_size=0.2, random_state=42)"
      ],
      "metadata": {
        "id": "hyhnEA9Hmrf1"
      },
      "execution_count": 121,
      "outputs": []
    },
    {
      "cell_type": "code",
      "source": [
        "# Scale numerical features\n",
        "scaler = StandardScaler()\n",
        "X_train = scaler.fit_transform(X_train)\n",
        "X_val = scaler.transform(X_val)\n",
        "X_test = scaler.transform(X_test)"
      ],
      "metadata": {
        "id": "_H4tDqCZmvBo"
      },
      "execution_count": 122,
      "outputs": []
    },
    {
      "cell_type": "code",
      "source": [
        "# Objective function for Optuna\n",
        "def objective(trial):\n",
        "    # Define hyperparameter search space\n",
        "    param = {\n",
        "        \"n_estimators\": trial.suggest_int(\"n_estimators\", 100, 300, step=50),\n",
        "        \"learning_rate\": trial.suggest_float(\"learning_rate\", 0.01, 0.1, step=0.01),\n",
        "        \"max_depth\": trial.suggest_int(\"max_depth\", 3, 7, step=2),\n",
        "        \"subsample\": trial.suggest_float(\"subsample\", 0.8, 1.0, step=0.1),\n",
        "        \"colsample_bytree\": trial.suggest_float(\"colsample_bytree\", 0.8, 1.0, step=0.1),\n",
        "        \"random_state\": 42\n",
        "    }\n",
        "\n",
        "    # Train model with the current set of hyperparameters\n",
        "    model = XGBClassifier(**param, use_label_encoder=False, eval_metric=\"logloss\")\n",
        "    model.fit(X_train_split, y_train_split)\n",
        "\n",
        "    # Evaluate on the validation set\n",
        "    preds = model.predict(X_valid)\n",
        "    accuracy = accuracy_score(y_valid, preds)\n",
        "    return accuracy"
      ],
      "metadata": {
        "id": "cGVaoM9roG5j"
      },
      "execution_count": 123,
      "outputs": []
    },
    {
      "cell_type": "code",
      "source": [
        "# Run Optuna optimization\n",
        "study = optuna.create_study(direction=\"maximize\")\n",
        "study.optimize(objective, n_trials=20)"
      ],
      "metadata": {
        "colab": {
          "base_uri": "https://localhost:8080/"
        },
        "collapsed": true,
        "id": "ka4cnYdrqnnG",
        "outputId": "592da537-ace2-433e-8be1-54cde84c4ccf"
      },
      "execution_count": 124,
      "outputs": [
        {
          "output_type": "stream",
          "name": "stderr",
          "text": [
            "[I 2024-12-27 06:17:00,226] A new study created in memory with name: no-name-72aa81ca-559f-4210-879b-772ce8316521\n",
            "/usr/local/lib/python3.10/dist-packages/xgboost/core.py:158: UserWarning: [06:17:00] WARNING: /workspace/src/learner.cc:740: \n",
            "Parameters: { \"use_label_encoder\" } are not used.\n",
            "\n",
            "  warnings.warn(smsg, UserWarning)\n",
            "[I 2024-12-27 06:17:00,472] Trial 0 finished with value: 0.954375 and parameters: {'n_estimators': 150, 'learning_rate': 0.060000000000000005, 'max_depth': 7, 'subsample': 1.0, 'colsample_bytree': 0.8}. Best is trial 0 with value: 0.954375.\n",
            "/usr/local/lib/python3.10/dist-packages/xgboost/core.py:158: UserWarning: [06:17:00] WARNING: /workspace/src/learner.cc:740: \n",
            "Parameters: { \"use_label_encoder\" } are not used.\n",
            "\n",
            "  warnings.warn(smsg, UserWarning)\n",
            "[I 2024-12-27 06:17:00,593] Trial 1 finished with value: 0.9325 and parameters: {'n_estimators': 150, 'learning_rate': 0.02, 'max_depth': 3, 'subsample': 1.0, 'colsample_bytree': 0.9}. Best is trial 0 with value: 0.954375.\n",
            "/usr/local/lib/python3.10/dist-packages/xgboost/core.py:158: UserWarning: [06:17:00] WARNING: /workspace/src/learner.cc:740: \n",
            "Parameters: { \"use_label_encoder\" } are not used.\n",
            "\n",
            "  warnings.warn(smsg, UserWarning)\n",
            "[I 2024-12-27 06:17:00,673] Trial 2 finished with value: 0.9 and parameters: {'n_estimators': 100, 'learning_rate': 0.01, 'max_depth': 3, 'subsample': 1.0, 'colsample_bytree': 0.9}. Best is trial 0 with value: 0.954375.\n",
            "/usr/local/lib/python3.10/dist-packages/xgboost/core.py:158: UserWarning: [06:17:00] WARNING: /workspace/src/learner.cc:740: \n",
            "Parameters: { \"use_label_encoder\" } are not used.\n",
            "\n",
            "  warnings.warn(smsg, UserWarning)\n",
            "[I 2024-12-27 06:17:00,851] Trial 3 finished with value: 0.946875 and parameters: {'n_estimators': 100, 'learning_rate': 0.04, 'max_depth': 7, 'subsample': 0.9, 'colsample_bytree': 1.0}. Best is trial 0 with value: 0.954375.\n",
            "/usr/local/lib/python3.10/dist-packages/xgboost/core.py:158: UserWarning: [06:17:00] WARNING: /workspace/src/learner.cc:740: \n",
            "Parameters: { \"use_label_encoder\" } are not used.\n",
            "\n",
            "  warnings.warn(smsg, UserWarning)\n",
            "[I 2024-12-27 06:17:01,277] Trial 4 finished with value: 0.950625 and parameters: {'n_estimators': 250, 'learning_rate': 0.01, 'max_depth': 7, 'subsample': 0.9, 'colsample_bytree': 0.8}. Best is trial 0 with value: 0.954375.\n",
            "/usr/local/lib/python3.10/dist-packages/xgboost/core.py:158: UserWarning: [06:17:01] WARNING: /workspace/src/learner.cc:740: \n",
            "Parameters: { \"use_label_encoder\" } are not used.\n",
            "\n",
            "  warnings.warn(smsg, UserWarning)\n",
            "[I 2024-12-27 06:17:01,358] Trial 5 finished with value: 0.916875 and parameters: {'n_estimators': 100, 'learning_rate': 0.02, 'max_depth': 3, 'subsample': 0.8, 'colsample_bytree': 0.8}. Best is trial 0 with value: 0.954375.\n",
            "/usr/local/lib/python3.10/dist-packages/xgboost/core.py:158: UserWarning: [06:17:01] WARNING: /workspace/src/learner.cc:740: \n",
            "Parameters: { \"use_label_encoder\" } are not used.\n",
            "\n",
            "  warnings.warn(smsg, UserWarning)\n",
            "[I 2024-12-27 06:17:01,573] Trial 6 finished with value: 0.948125 and parameters: {'n_estimators': 100, 'learning_rate': 0.06999999999999999, 'max_depth': 7, 'subsample': 1.0, 'colsample_bytree': 1.0}. Best is trial 0 with value: 0.954375.\n",
            "/usr/local/lib/python3.10/dist-packages/xgboost/core.py:158: UserWarning: [06:17:01] WARNING: /workspace/src/learner.cc:740: \n",
            "Parameters: { \"use_label_encoder\" } are not used.\n",
            "\n",
            "  warnings.warn(smsg, UserWarning)\n",
            "[I 2024-12-27 06:17:01,854] Trial 7 finished with value: 0.951875 and parameters: {'n_estimators': 200, 'learning_rate': 0.060000000000000005, 'max_depth': 7, 'subsample': 1.0, 'colsample_bytree': 0.9}. Best is trial 0 with value: 0.954375.\n",
            "/usr/local/lib/python3.10/dist-packages/xgboost/core.py:158: UserWarning: [06:17:01] WARNING: /workspace/src/learner.cc:740: \n",
            "Parameters: { \"use_label_encoder\" } are not used.\n",
            "\n",
            "  warnings.warn(smsg, UserWarning)\n",
            "[I 2024-12-27 06:17:01,984] Trial 8 finished with value: 0.949375 and parameters: {'n_estimators': 200, 'learning_rate': 0.09999999999999999, 'max_depth': 3, 'subsample': 1.0, 'colsample_bytree': 0.8}. Best is trial 0 with value: 0.954375.\n",
            "/usr/local/lib/python3.10/dist-packages/xgboost/core.py:158: UserWarning: [06:17:02] WARNING: /workspace/src/learner.cc:740: \n",
            "Parameters: { \"use_label_encoder\" } are not used.\n",
            "\n",
            "  warnings.warn(smsg, UserWarning)\n",
            "[I 2024-12-27 06:17:02,104] Trial 9 finished with value: 0.948125 and parameters: {'n_estimators': 100, 'learning_rate': 0.060000000000000005, 'max_depth': 5, 'subsample': 0.9, 'colsample_bytree': 0.9}. Best is trial 0 with value: 0.954375.\n",
            "/usr/local/lib/python3.10/dist-packages/xgboost/core.py:158: UserWarning: [06:17:02] WARNING: /workspace/src/learner.cc:740: \n",
            "Parameters: { \"use_label_encoder\" } are not used.\n",
            "\n",
            "  warnings.warn(smsg, UserWarning)\n",
            "[I 2024-12-27 06:17:02,410] Trial 10 finished with value: 0.954375 and parameters: {'n_estimators': 300, 'learning_rate': 0.09, 'max_depth': 5, 'subsample': 0.8, 'colsample_bytree': 0.8}. Best is trial 0 with value: 0.954375.\n",
            "/usr/local/lib/python3.10/dist-packages/xgboost/core.py:158: UserWarning: [06:17:02] WARNING: /workspace/src/learner.cc:740: \n",
            "Parameters: { \"use_label_encoder\" } are not used.\n",
            "\n",
            "  warnings.warn(smsg, UserWarning)\n",
            "[I 2024-12-27 06:17:02,751] Trial 11 finished with value: 0.954375 and parameters: {'n_estimators': 300, 'learning_rate': 0.09, 'max_depth': 5, 'subsample': 0.8, 'colsample_bytree': 0.8}. Best is trial 0 with value: 0.954375.\n",
            "/usr/local/lib/python3.10/dist-packages/xgboost/core.py:158: UserWarning: [06:17:02] WARNING: /workspace/src/learner.cc:740: \n",
            "Parameters: { \"use_label_encoder\" } are not used.\n",
            "\n",
            "  warnings.warn(smsg, UserWarning)\n",
            "[I 2024-12-27 06:17:03,067] Trial 12 finished with value: 0.95375 and parameters: {'n_estimators': 300, 'learning_rate': 0.08, 'max_depth': 5, 'subsample': 0.8, 'colsample_bytree': 0.8}. Best is trial 0 with value: 0.954375.\n",
            "/usr/local/lib/python3.10/dist-packages/xgboost/core.py:158: UserWarning: [06:17:03] WARNING: /workspace/src/learner.cc:740: \n",
            "Parameters: { \"use_label_encoder\" } are not used.\n",
            "\n",
            "  warnings.warn(smsg, UserWarning)\n",
            "[I 2024-12-27 06:17:03,353] Trial 13 finished with value: 0.9525 and parameters: {'n_estimators': 250, 'learning_rate': 0.04, 'max_depth': 5, 'subsample': 0.9, 'colsample_bytree': 0.8}. Best is trial 0 with value: 0.954375.\n",
            "/usr/local/lib/python3.10/dist-packages/xgboost/core.py:158: UserWarning: [06:17:03] WARNING: /workspace/src/learner.cc:740: \n",
            "Parameters: { \"use_label_encoder\" } are not used.\n",
            "\n",
            "  warnings.warn(smsg, UserWarning)\n",
            "[I 2024-12-27 06:17:03,559] Trial 14 finished with value: 0.95625 and parameters: {'n_estimators': 150, 'learning_rate': 0.09999999999999999, 'max_depth': 5, 'subsample': 0.8, 'colsample_bytree': 0.9}. Best is trial 14 with value: 0.95625.\n",
            "/usr/local/lib/python3.10/dist-packages/xgboost/core.py:158: UserWarning: [06:17:03] WARNING: /workspace/src/learner.cc:740: \n",
            "Parameters: { \"use_label_encoder\" } are not used.\n",
            "\n",
            "  warnings.warn(smsg, UserWarning)\n",
            "[I 2024-12-27 06:17:03,847] Trial 15 finished with value: 0.948125 and parameters: {'n_estimators': 150, 'learning_rate': 0.04, 'max_depth': 7, 'subsample': 0.9, 'colsample_bytree': 0.9}. Best is trial 14 with value: 0.95625.\n",
            "/usr/local/lib/python3.10/dist-packages/xgboost/core.py:158: UserWarning: [06:17:03] WARNING: /workspace/src/learner.cc:740: \n",
            "Parameters: { \"use_label_encoder\" } are not used.\n",
            "\n",
            "  warnings.warn(smsg, UserWarning)\n",
            "[I 2024-12-27 06:17:04,037] Trial 16 finished with value: 0.949375 and parameters: {'n_estimators': 150, 'learning_rate': 0.09999999999999999, 'max_depth': 5, 'subsample': 0.8, 'colsample_bytree': 1.0}. Best is trial 14 with value: 0.95625.\n",
            "/usr/local/lib/python3.10/dist-packages/xgboost/core.py:158: UserWarning: [06:17:04] WARNING: /workspace/src/learner.cc:740: \n",
            "Parameters: { \"use_label_encoder\" } are not used.\n",
            "\n",
            "  warnings.warn(smsg, UserWarning)\n",
            "[I 2024-12-27 06:17:04,286] Trial 17 finished with value: 0.9525 and parameters: {'n_estimators': 150, 'learning_rate': 0.08, 'max_depth': 7, 'subsample': 0.9, 'colsample_bytree': 1.0}. Best is trial 14 with value: 0.95625.\n",
            "/usr/local/lib/python3.10/dist-packages/xgboost/core.py:158: UserWarning: [06:17:04] WARNING: /workspace/src/learner.cc:740: \n",
            "Parameters: { \"use_label_encoder\" } are not used.\n",
            "\n",
            "  warnings.warn(smsg, UserWarning)\n",
            "[I 2024-12-27 06:17:04,558] Trial 18 finished with value: 0.955625 and parameters: {'n_estimators': 200, 'learning_rate': 0.05, 'max_depth': 5, 'subsample': 0.8, 'colsample_bytree': 0.9}. Best is trial 14 with value: 0.95625.\n",
            "/usr/local/lib/python3.10/dist-packages/xgboost/core.py:158: UserWarning: [06:17:04] WARNING: /workspace/src/learner.cc:740: \n",
            "Parameters: { \"use_label_encoder\" } are not used.\n",
            "\n",
            "  warnings.warn(smsg, UserWarning)\n",
            "[I 2024-12-27 06:17:04,836] Trial 19 finished with value: 0.956875 and parameters: {'n_estimators': 250, 'learning_rate': 0.05, 'max_depth': 5, 'subsample': 0.8, 'colsample_bytree': 0.9}. Best is trial 19 with value: 0.956875.\n"
          ]
        }
      ]
    },
    {
      "cell_type": "code",
      "source": [
        "# Print the best parameters and accuracy\n",
        "print(\"Best Parameters:\", study.best_params)\n",
        "print(\"Best Validation Accuracy:\", study.best_value)"
      ],
      "metadata": {
        "colab": {
          "base_uri": "https://localhost:8080/"
        },
        "id": "c12s6hsasayI",
        "outputId": "05d1bca9-6eed-4864-b0a3-08b245cb9afa"
      },
      "execution_count": 125,
      "outputs": [
        {
          "output_type": "stream",
          "name": "stdout",
          "text": [
            "Best Parameters: {'n_estimators': 250, 'learning_rate': 0.05, 'max_depth': 5, 'subsample': 0.8, 'colsample_bytree': 0.9}\n",
            "Best Validation Accuracy: 0.956875\n"
          ]
        }
      ]
    },
    {
      "cell_type": "code",
      "source": [
        "# Train the final model with the best hyperparameters\n",
        "best_params = study.best_params\n",
        "final_model = XGBClassifier(**best_params, use_label_encoder=False, eval_metric=\"logloss\")\n",
        "final_model.fit(X_train, y_train)\n",
        "\n",
        "# Generate predictions on the test set (if available)\n",
        "if 'X_test' in globals():\n",
        "    test_preds = final_model.predict(X_test)\n",
        "    submission = pd.DataFrame({'id': test_data['id'], 'satisfation': test_preds})\n",
        "\n",
        "    # Save predictions to CSV\n",
        "    submission.to_csv('submission.csv', index=False)\n",
        "    print(\"Submission saved as 'submission.csv'\")\n",
        "else:\n",
        "    print(\"Test set not provided, cannot generate submission.\")"
      ],
      "metadata": {
        "colab": {
          "base_uri": "https://localhost:8080/"
        },
        "id": "PKDQwVNTsiud",
        "outputId": "1b15fd8a-f7ec-4732-b0e5-9b2267a7e712"
      },
      "execution_count": 126,
      "outputs": [
        {
          "output_type": "stream",
          "name": "stderr",
          "text": [
            "/usr/local/lib/python3.10/dist-packages/xgboost/core.py:158: UserWarning: [06:17:13] WARNING: /workspace/src/learner.cc:740: \n",
            "Parameters: { \"use_label_encoder\" } are not used.\n",
            "\n",
            "  warnings.warn(smsg, UserWarning)\n"
          ]
        },
        {
          "output_type": "stream",
          "name": "stdout",
          "text": [
            "Submission saved as 'submission.csv'\n"
          ]
        }
      ]
    }
  ]
}